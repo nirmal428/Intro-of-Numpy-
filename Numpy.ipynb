{
  "nbformat": 4,
  "nbformat_minor": 0,
  "metadata": {
    "colab": {
      "provenance": [],
      "collapsed_sections": [
        "btT3oZXUd7_L",
        "GJD-oRtWR1OU",
        "_qtxXwxmSJvB",
        "_xKpEFECajzY",
        "KFIjvOdBc7Sq",
        "9pzbDcPwdrZU",
        "m9nTIgC3jDEK",
        "POROPteFjqSO",
        "H9Hzp3_mkbK2",
        "RIdsSuVZuCYH",
        "zUHa_K673fNf",
        "M8KrcenRZOtF"
      ],
      "authorship_tag": "ABX9TyPvgiOR0mQ5HRBI6fsjIRK5",
      "include_colab_link": true
    },
    "kernelspec": {
      "name": "python3",
      "display_name": "Python 3"
    },
    "language_info": {
      "name": "python"
    }
  },
  "cells": [
    {
      "cell_type": "markdown",
      "metadata": {
        "id": "view-in-github",
        "colab_type": "text"
      },
      "source": [
        "<a href=\"https://colab.research.google.com/github/nirmal428/Intro-of-Numpy-/blob/main/Numpy.ipynb\" target=\"_parent\"><img src=\"https://colab.research.google.com/assets/colab-badge.svg\" alt=\"Open In Colab\"/></a>"
      ]
    },
    {
      "cell_type": "markdown",
      "source": [
        "## *Intro*\n",
        "\n",
        "\n"
      ],
      "metadata": {
        "id": "btT3oZXUd7_L"
      }
    },
    {
      "cell_type": "code",
      "execution_count": null,
      "metadata": {
        "id": "qrXuT5tJMFxV"
      },
      "outputs": [],
      "source": [
        "import numpy as np"
      ]
    },
    {
      "cell_type": "markdown",
      "source": [
        "1D Aray"
      ],
      "metadata": {
        "id": "6I8ZgRNRO2Bn"
      }
    },
    {
      "cell_type": "code",
      "source": [
        "np_array=np.array([1,2,3,4,5])\n",
        "print(np_array)"
      ],
      "metadata": {
        "colab": {
          "base_uri": "https://localhost:8080/"
        },
        "id": "mjT5BQzYMN5w",
        "outputId": "22826e9a-ea77-4c8e-8c73-1c4a427228d2"
      },
      "execution_count": null,
      "outputs": [
        {
          "output_type": "stream",
          "name": "stdout",
          "text": [
            "[1 2 3 4 5]\n"
          ]
        }
      ]
    },
    {
      "cell_type": "markdown",
      "source": [
        "2D Array\n"
      ],
      "metadata": {
        "id": "jK4dAQ_4O87V"
      }
    },
    {
      "cell_type": "code",
      "source": [
        "np_2D=np.array([[1,2,3],[4,5,6]])\n",
        "print(np_2D)\n"
      ],
      "metadata": {
        "id": "kzY05SnrMxw7",
        "colab": {
          "base_uri": "https://localhost:8080/"
        },
        "outputId": "69697d15-9405-4c07-dafa-939af1b3070c"
      },
      "execution_count": null,
      "outputs": [
        {
          "output_type": "stream",
          "name": "stdout",
          "text": [
            "[[1 2 3]\n",
            " [4 5 6]]\n"
          ]
        }
      ]
    },
    {
      "cell_type": "markdown",
      "source": [
        "Multi-dimensional Array"
      ],
      "metadata": {
        "id": "Ajm_uNqVPLGq"
      }
    },
    {
      "cell_type": "code",
      "source": [
        "matrix=np.array([[1,2,3],[4,5,6],[7,8,9]])\n",
        "print(matrix)"
      ],
      "metadata": {
        "colab": {
          "base_uri": "https://localhost:8080/"
        },
        "id": "SwjoekewPISc",
        "outputId": "9aa3df10-7f15-46eb-fa73-bb53fe0c2ed1"
      },
      "execution_count": null,
      "outputs": [
        {
          "output_type": "stream",
          "name": "stdout",
          "text": [
            "[[1 2 3]\n",
            " [4 5 6]\n",
            " [7 8 9]]\n"
          ]
        }
      ]
    },
    {
      "cell_type": "markdown",
      "source": [
        "## **Array creation method**"
      ],
      "metadata": {
        "id": "GJD-oRtWR1OU"
      }
    },
    {
      "cell_type": "markdown",
      "source": [
        "Creating Array from Python List"
      ],
      "metadata": {
        "id": "k9woOQrEPr0V"
      }
    },
    {
      "cell_type": "code",
      "source": [
        "arr=np.array([1,2,3,4,5])\n",
        "print(arr)"
      ],
      "metadata": {
        "colab": {
          "base_uri": "https://localhost:8080/"
        },
        "id": "GaNyIWO3Pf0D",
        "outputId": "697ebf76-a659-48a0-c1ee-818232bb41db"
      },
      "execution_count": null,
      "outputs": [
        {
          "output_type": "stream",
          "name": "stdout",
          "text": [
            "[1 2 3 4 5]\n"
          ]
        }
      ]
    },
    {
      "cell_type": "code",
      "source": [
        "#DEFAULT ZEROS VALTUES\n",
        "arr=np.zeros(3)\n",
        "print(arr)"
      ],
      "metadata": {
        "colab": {
          "base_uri": "https://localhost:8080/"
        },
        "id": "W8BGf3-QP3VG",
        "outputId": "a92f8eb9-f41a-4f2d-e2ba-9516f633342a"
      },
      "execution_count": null,
      "outputs": [
        {
          "output_type": "stream",
          "name": "stdout",
          "text": [
            "[0. 0. 0.]\n"
          ]
        }
      ]
    },
    {
      "cell_type": "code",
      "source": [
        "#DEFAULT ONE VALTUES\n",
        "arr=np.ones((2,3))\n",
        "print(arr)"
      ],
      "metadata": {
        "colab": {
          "base_uri": "https://localhost:8080/"
        },
        "id": "YpLJx5I7QKH-",
        "outputId": "cf2409dd-ef2a-417c-c6fe-bfeb0f1a02cd"
      },
      "execution_count": null,
      "outputs": [
        {
          "output_type": "stream",
          "name": "stdout",
          "text": [
            "[[1. 1. 1.]\n",
            " [1. 1. 1.]]\n"
          ]
        }
      ]
    },
    {
      "cell_type": "code",
      "source": [
        "# SPECIFIC VALUE\n",
        "arr=np.full((4,3),9)\n",
        "print(arr)"
      ],
      "metadata": {
        "colab": {
          "base_uri": "https://localhost:8080/"
        },
        "id": "hVdrdzvsQgHK",
        "outputId": "13773ca6-7462-40f3-e1af-6da0a884f2ce"
      },
      "execution_count": null,
      "outputs": [
        {
          "output_type": "stream",
          "name": "stdout",
          "text": [
            "[[9 9 9]\n",
            " [9 9 9]\n",
            " [9 9 9]\n",
            " [9 9 9]]\n"
          ]
        }
      ]
    },
    {
      "cell_type": "markdown",
      "source": [
        "Creating sequences of number in numpy"
      ],
      "metadata": {
        "id": "azjYO2pLQ_uO"
      }
    },
    {
      "cell_type": "code",
      "source": [
        "#arange()\n",
        "arr=np.arange(1,10,2)\n",
        "print(arr)"
      ],
      "metadata": {
        "colab": {
          "base_uri": "https://localhost:8080/"
        },
        "id": "kyMW_tGsQx7w",
        "outputId": "af5208e7-b79c-422b-ef9b-4c88410d6ab2"
      },
      "execution_count": null,
      "outputs": [
        {
          "output_type": "stream",
          "name": "stdout",
          "text": [
            "[1 3 5 7 9]\n"
          ]
        }
      ]
    },
    {
      "cell_type": "markdown",
      "source": [
        "creating identity matrices"
      ],
      "metadata": {
        "id": "MdjkIWhORV5m"
      }
    },
    {
      "cell_type": "code",
      "source": [
        "identity_matrix=np.eye(5)\n",
        "print(identity_matrix)"
      ],
      "metadata": {
        "colab": {
          "base_uri": "https://localhost:8080/"
        },
        "id": "QIMpucdqRP-l",
        "outputId": "bd0153e6-63c3-427b-c9d7-44e2006c2541"
      },
      "execution_count": null,
      "outputs": [
        {
          "output_type": "stream",
          "name": "stdout",
          "text": [
            "[[1. 0. 0. 0. 0.]\n",
            " [0. 1. 0. 0. 0.]\n",
            " [0. 0. 1. 0. 0.]\n",
            " [0. 0. 0. 1. 0.]\n",
            " [0. 0. 0. 0. 1.]]\n"
          ]
        }
      ]
    },
    {
      "cell_type": "markdown",
      "source": [
        "## **Numpy Array Properties**"
      ],
      "metadata": {
        "id": "_qtxXwxmSJvB"
      }
    },
    {
      "cell_type": "markdown",
      "source": [
        "**Shape**"
      ],
      "metadata": {
        "id": "H2Bbhy0TSqyW"
      }
    },
    {
      "cell_type": "code",
      "source": [
        "arr_2d=np.array([[1,2,3],[4,5,6]])\n",
        "print(arr_2d.shape)"
      ],
      "metadata": {
        "colab": {
          "base_uri": "https://localhost:8080/"
        },
        "id": "xZR88sy2RkuV",
        "outputId": "8a0157b2-fde5-42c6-e164-72baf6acb4a8"
      },
      "execution_count": null,
      "outputs": [
        {
          "output_type": "stream",
          "name": "stdout",
          "text": [
            "(2, 3)\n"
          ]
        }
      ]
    },
    {
      "cell_type": "markdown",
      "source": [
        "**Size**:- total number of element in array"
      ],
      "metadata": {
        "id": "bTRb8lyoTSo2"
      }
    },
    {
      "cell_type": "code",
      "source": [
        "arr_2d=np.array([[1,2,3],[4,5,6]])\n",
        "print(arr_2d.size)"
      ],
      "metadata": {
        "colab": {
          "base_uri": "https://localhost:8080/"
        },
        "id": "WNEr-R6ITLWg",
        "outputId": "096c0adb-67b7-4ecf-c49b-900d6efe70bc"
      },
      "execution_count": null,
      "outputs": [
        {
          "output_type": "stream",
          "name": "stdout",
          "text": [
            "6\n"
          ]
        }
      ]
    },
    {
      "cell_type": "markdown",
      "source": [
        "**nidm**:- number of dimensions"
      ],
      "metadata": {
        "id": "Q7_aTO-9TuGv"
      }
    },
    {
      "cell_type": "code",
      "source": [
        "arr_2d=np.array([[1,2,3],[4,5,6]])\n",
        "arr_3d=np.array([[[1,2,3],[4,5,6]],[[1,2,3],[4,5,6]]])\n",
        "print(arr_2d.ndim)\n",
        "print(arr_3d.ndim)"
      ],
      "metadata": {
        "colab": {
          "base_uri": "https://localhost:8080/"
        },
        "id": "qjvYaL8gTjWD",
        "outputId": "b6651528-8fef-4fe4-8ef7-620e1c0e6c30"
      },
      "execution_count": null,
      "outputs": [
        {
          "output_type": "stream",
          "name": "stdout",
          "text": [
            "2\n",
            "3\n"
          ]
        }
      ]
    },
    {
      "cell_type": "markdown",
      "source": [
        ".**dtype**:-  return data type"
      ],
      "metadata": {
        "id": "LZdHSqlmUwqB"
      }
    },
    {
      "cell_type": "code",
      "source": [
        "arr=np.array([1,2,3.0,4,5])\n",
        "arr_1=np.array([1,2,3,4,5])\n",
        "print(arr.dtype)\n",
        "print(arr_1.dtype)"
      ],
      "metadata": {
        "colab": {
          "base_uri": "https://localhost:8080/"
        },
        "id": "V6f9C6_gT_Gy",
        "outputId": "7bea9d7a-f110-4e1c-ff9f-251f04e5d1f2"
      },
      "execution_count": null,
      "outputs": [
        {
          "output_type": "stream",
          "name": "stdout",
          "text": [
            "float64\n",
            "int64\n"
          ]
        }
      ]
    },
    {
      "cell_type": "markdown",
      "source": [
        "**Data type Changing** --- astype()"
      ],
      "metadata": {
        "id": "HtodXNDtVX6N"
      }
    },
    {
      "cell_type": "code",
      "source": [
        "arr=np.array([1,2,3,4,5])\n",
        "print(arr.dtype)\n",
        "new_arr=arr.astype(float)\n",
        "print(new_arr.dtype)"
      ],
      "metadata": {
        "colab": {
          "base_uri": "https://localhost:8080/"
        },
        "id": "beB5tFbXVO3k",
        "outputId": "a4a7cbe3-40d0-42ee-a1c6-fd9fd6e3b76c"
      },
      "execution_count": null,
      "outputs": [
        {
          "output_type": "stream",
          "name": "stdout",
          "text": [
            "int64\n",
            "float64\n"
          ]
        }
      ]
    },
    {
      "cell_type": "markdown",
      "source": [
        "## **Operaton**"
      ],
      "metadata": {
        "id": "_xKpEFECajzY"
      }
    },
    {
      "cell_type": "code",
      "source": [
        "arr=np.array([1,2,13,4,5])\n",
        "print(arr+5)\n",
        "print(arr*5)\n",
        "print(arr//5)"
      ],
      "metadata": {
        "colab": {
          "base_uri": "https://localhost:8080/"
        },
        "id": "CUuiStsnWRtQ",
        "outputId": "535d2308-4e33-4b7b-f914-17b8021563a8"
      },
      "execution_count": null,
      "outputs": [
        {
          "output_type": "stream",
          "name": "stdout",
          "text": [
            "[ 6  7 18  9 10]\n",
            "[ 5 10 65 20 25]\n",
            "[0 0 2 0 1]\n"
          ]
        }
      ]
    },
    {
      "cell_type": "markdown",
      "source": [
        "## Aggregation"
      ],
      "metadata": {
        "id": "KFIjvOdBc7Sq"
      }
    },
    {
      "cell_type": "code",
      "source": [
        "arr=np.array([1,2,13,4,5])\n",
        "print(np.sum(arr))\n",
        "print(np.mean(arr))\n",
        "print(np.max(arr))\n",
        "print(np.min(arr))\n",
        "print(np.std(arr))\n",
        "print(np.var(arr))"
      ],
      "metadata": {
        "colab": {
          "base_uri": "https://localhost:8080/"
        },
        "id": "Two3sAhjbMb1",
        "outputId": "c911f266-3de7-4b1e-ae9a-451b91c657d9"
      },
      "execution_count": null,
      "outputs": [
        {
          "output_type": "stream",
          "name": "stdout",
          "text": [
            "25\n",
            "5.0\n",
            "13\n",
            "1\n",
            "4.242640687119285\n",
            "18.0\n"
          ]
        }
      ]
    },
    {
      "cell_type": "markdown",
      "source": [
        "## **Indexing , Slicing and Fancy Indexing**"
      ],
      "metadata": {
        "id": "9pzbDcPwdrZU"
      }
    },
    {
      "cell_type": "markdown",
      "source": [
        "access\n"
      ],
      "metadata": {
        "id": "v7tzweZJe9L4"
      }
    },
    {
      "cell_type": "code",
      "source": [
        "#array[index] --> 1D array\n",
        "\n",
        "arr=np.array([1,2,3,4,5,6,7,8,9,10])\n",
        "print(arr[0])\n",
        "print(arr[5])\n",
        "print(arr[-1])\n",
        "print(arr[-10])\n"
      ],
      "metadata": {
        "colab": {
          "base_uri": "https://localhost:8080/"
        },
        "id": "2IugOJZ9cSgs",
        "outputId": "3cbab6c7-650b-4d1c-acfc-f7c98e73f64c"
      },
      "execution_count": null,
      "outputs": [
        {
          "output_type": "stream",
          "name": "stdout",
          "text": [
            "1\n",
            "6\n",
            "10\n",
            "1\n"
          ]
        }
      ]
    },
    {
      "cell_type": "code",
      "source": [
        "#array[row,column] --> 2D array\n",
        "arr=np.array([[1,2,3],[4,5,6]])\n",
        "print(arr[0,1])\n",
        "print(arr[1,2])"
      ],
      "metadata": {
        "colab": {
          "base_uri": "https://localhost:8080/"
        },
        "id": "dEwaWqqLgFDY",
        "outputId": "cfab1510-f5d6-4c2c-d449-7e02d5dab413"
      },
      "execution_count": null,
      "outputs": [
        {
          "output_type": "stream",
          "name": "stdout",
          "text": [
            "2\n",
            "6\n"
          ]
        }
      ]
    },
    {
      "cell_type": "markdown",
      "source": [
        "Slicing --> array(star,stop,step)"
      ],
      "metadata": {
        "id": "Jkmza75CgcSg"
      }
    },
    {
      "cell_type": "code",
      "source": [
        "arr=np.array([1,2,3,4,5,6,77,88,99,100,200])\n",
        "print(arr[1:6])\n",
        "print(arr[:10])\n",
        "print(arr[::3])\n",
        "print(arr[-1])\n",
        "print(arr[-10:-1])"
      ],
      "metadata": {
        "colab": {
          "base_uri": "https://localhost:8080/"
        },
        "id": "38sBUE6SgPce",
        "outputId": "0615a30d-0719-4d46-def6-72088cd5486c"
      },
      "execution_count": null,
      "outputs": [
        {
          "output_type": "stream",
          "name": "stdout",
          "text": [
            "[2 3 4 5 6]\n",
            "[  1   2   3   4   5   6  77  88  99 100]\n",
            "[  1   4  77 100]\n",
            "200\n",
            "[  2   3   4   5   6  77  88  99 100]\n"
          ]
        }
      ]
    },
    {
      "cell_type": "markdown",
      "source": [
        "Fancy Indexing"
      ],
      "metadata": {
        "id": "dvZPTxxliVXJ"
      }
    },
    {
      "cell_type": "code",
      "source": [
        "arr=np.array([1,2,3,4,5,6,7,8,9,10])\n",
        "print(arr[[0,4,9]])\n",
        "print(arr[[2,4,6,8]])"
      ],
      "metadata": {
        "colab": {
          "base_uri": "https://localhost:8080/"
        },
        "id": "MnJIhE4DhD4W",
        "outputId": "d42cdb3d-ab77-4510-f1bf-419c6c599ee5"
      },
      "execution_count": null,
      "outputs": [
        {
          "output_type": "stream",
          "name": "stdout",
          "text": [
            "[ 1  5 10]\n",
            "[3 5 7 9]\n"
          ]
        }
      ]
    },
    {
      "cell_type": "markdown",
      "source": [
        "## **Condition**"
      ],
      "metadata": {
        "id": "m9nTIgC3jDEK"
      }
    },
    {
      "cell_type": "code",
      "source": [
        "arr=np.array([1,2,3,4,5,6,7,8,9,10])\n",
        "print(arr[arr>4])"
      ],
      "metadata": {
        "colab": {
          "base_uri": "https://localhost:8080/"
        },
        "id": "PYuWB1uUiuLl",
        "outputId": "bb38a413-eadc-46fc-e906-cc70057b8409"
      },
      "execution_count": null,
      "outputs": [
        {
          "output_type": "stream",
          "name": "stdout",
          "text": [
            "[ 5  6  7  8  9 10]\n"
          ]
        }
      ]
    },
    {
      "cell_type": "code",
      "source": [
        "arr=np.array([1,2,3,4,5,6,7,8,9,10])\n",
        "print(arr[arr%2])"
      ],
      "metadata": {
        "colab": {
          "base_uri": "https://localhost:8080/"
        },
        "id": "LkCQ1z-vjOnt",
        "outputId": "f1cbbd4d-e523-439b-c0b1-adab6a773b2b"
      },
      "execution_count": null,
      "outputs": [
        {
          "output_type": "stream",
          "name": "stdout",
          "text": [
            "[2 1 2 1 2 1 2 1 2 1]\n"
          ]
        }
      ]
    },
    {
      "cell_type": "markdown",
      "source": [],
      "metadata": {
        "id": "xdEgSNLBjkGO"
      }
    },
    {
      "cell_type": "markdown",
      "source": [
        "## **reshape()**"
      ],
      "metadata": {
        "id": "POROPteFjqSO"
      }
    },
    {
      "cell_type": "markdown",
      "source": [
        "reshaping does't create copy. It return view"
      ],
      "metadata": {
        "id": "Egs9y0RNkPDa"
      }
    },
    {
      "cell_type": "code",
      "source": [
        "reshaped=arr.reshape(2,5)\n",
        "print(reshaped)"
      ],
      "metadata": {
        "colab": {
          "base_uri": "https://localhost:8080/"
        },
        "id": "L35ui6nOjXSd",
        "outputId": "b69d843d-88a9-46fd-ece3-5735f138ffd8"
      },
      "execution_count": null,
      "outputs": [
        {
          "output_type": "stream",
          "name": "stdout",
          "text": [
            "[[ 1  2  3  4  5]\n",
            " [ 6  7  8  9 10]]\n"
          ]
        }
      ]
    },
    {
      "cell_type": "code",
      "source": [
        "arr=np.array([1,2,3,4,5,6,7,8,9,10,11,12])\n",
        "reshaped=arr.reshape(2,2,3)\n",
        "print(reshaped)"
      ],
      "metadata": {
        "colab": {
          "base_uri": "https://localhost:8080/"
        },
        "id": "CkE7fUmpjoLj",
        "outputId": "12c1087f-35b3-41a8-b04d-a90453f1db48"
      },
      "execution_count": null,
      "outputs": [
        {
          "output_type": "stream",
          "name": "stdout",
          "text": [
            "[[[ 1  2  3]\n",
            "  [ 4  5  6]]\n",
            "\n",
            " [[ 7  8  9]\n",
            "  [10 11 12]]]\n"
          ]
        }
      ]
    },
    {
      "cell_type": "markdown",
      "source": [
        "## **Flattening Array**"
      ],
      "metadata": {
        "id": "H9Hzp3_mkbK2"
      }
    },
    {
      "cell_type": "markdown",
      "source": [
        "\n",
        "\n",
        "1.   .ravel() --> it return view (means modificaton are accur)\n",
        "\n",
        "2.   .flatten() -->return copy modification(original array not affected )\n",
        "\n"
      ],
      "metadata": {
        "id": "MEzenHk0kzro"
      }
    },
    {
      "cell_type": "code",
      "source": [
        "arr_2d=np.array([[1,2,3],[4,5,6]])\n",
        "print(arr_2d.flatten())   #not affected original array\n",
        "print(arr_2d.ravel())   #modify original array\n"
      ],
      "metadata": {
        "colab": {
          "base_uri": "https://localhost:8080/"
        },
        "id": "e2UIx9uQksV4",
        "outputId": "1aef5a26-2f8e-4bc5-a198-d8c8eb86fcbd"
      },
      "execution_count": null,
      "outputs": [
        {
          "output_type": "stream",
          "name": "stdout",
          "text": [
            "[1 2 3 4 5 6]\n",
            "[1 2 3 4 5 6]\n"
          ]
        }
      ]
    },
    {
      "cell_type": "markdown",
      "source": [
        "## **Reshapimg & Manipulating Array**"
      ],
      "metadata": {
        "id": "RIdsSuVZuCYH"
      }
    },
    {
      "cell_type": "markdown",
      "source": [
        "**insert** :--\n",
        "Create an other array , original array unchanged  "
      ],
      "metadata": {
        "id": "DqSgW__SvZuu"
      }
    },
    {
      "cell_type": "code",
      "source": [
        "#insert in 1D Array\n",
        "\n",
        "#array\n",
        "#index -\n",
        "#value -\n",
        "#asix -\n",
        "#axis = 0 , row wise data inser\n",
        "#axis = 1 , column wise data inser\n",
        "\n",
        "\n",
        "arr=np.array([1,2,3,4,5,6,7,8,9,10])\n",
        "arr2=np.insert(arr,3,99,axis=0)\n",
        "print(arr)\n",
        "print(arr2)\n"
      ],
      "metadata": {
        "colab": {
          "base_uri": "https://localhost:8080/"
        },
        "id": "Cducq1krmEuU",
        "outputId": "dddd93c6-ae2f-4876-8a6b-88f77eeff08b"
      },
      "execution_count": null,
      "outputs": [
        {
          "output_type": "stream",
          "name": "stdout",
          "text": [
            "[ 1  2  3  4  5  6  7  8  9 10]\n",
            "[ 1  2  3 99  4  5  6  7  8  9 10]\n"
          ]
        }
      ]
    },
    {
      "cell_type": "code",
      "source": [
        "#inset in 2D Array\n",
        "\n",
        "arr=np.array([[1,2],[3,4]])\n",
        "#insert a new row index 1\n",
        "arr2=np.insert(arr,1,[5,6],axis=0)\n",
        "print(arr)\n",
        "print()\n",
        "print(arr2)\n",
        "print()\n",
        "arr3=np.insert(arr2,2,[15,16],axis=0)\n",
        "print(arr3)"
      ],
      "metadata": {
        "colab": {
          "base_uri": "https://localhost:8080/"
        },
        "id": "aSztA_u0wmKB",
        "outputId": "2ca34e80-a96c-4783-80f6-a2a711ed8cf9"
      },
      "execution_count": null,
      "outputs": [
        {
          "output_type": "stream",
          "name": "stdout",
          "text": [
            "[[1 2]\n",
            " [3 4]]\n",
            "\n",
            "[[1 2]\n",
            " [5 6]\n",
            " [3 4]]\n",
            "\n",
            "[[ 1  2]\n",
            " [ 5  6]\n",
            " [15 16]\n",
            " [ 3  4]]\n"
          ]
        }
      ]
    },
    {
      "cell_type": "markdown",
      "source": [
        "**Append**:-- Create an other array , original array unchanged  "
      ],
      "metadata": {
        "id": "x8NKH-bex1Z8"
      }
    },
    {
      "cell_type": "code",
      "source": [
        "arr=np.array([1,2,3,4,5,6,7,8,9,10])\n",
        "arr2=np.append(arr,99)\n",
        "print(arr)\n",
        "print()\n",
        "print(arr2)"
      ],
      "metadata": {
        "colab": {
          "base_uri": "https://localhost:8080/"
        },
        "id": "MS-Sa-owxQjz",
        "outputId": "b8f930a6-63ee-4fa0-bdf8-37ff76a76ea2"
      },
      "execution_count": null,
      "outputs": [
        {
          "output_type": "stream",
          "name": "stdout",
          "text": [
            "[ 1  2  3  4  5  6  7  8  9 10]\n",
            "\n",
            "[ 1  2  3  4  5  6  7  8  9 10 99]\n"
          ]
        }
      ]
    },
    {
      "cell_type": "markdown",
      "source": [
        "**Concatenate**  --: join arrays"
      ],
      "metadata": {
        "id": "Z1lKQ0w4yn19"
      }
    },
    {
      "cell_type": "code",
      "source": [
        "# axis 0 --> vertical stacking\n",
        "# asix 1 --> horizontal stacking\n",
        "\n",
        "arr1=np.array([1,2,3,4])\n",
        "arr2=np.array([5,6,7,8])\n",
        "arr3=np.concatenate((arr1,arr2),axis=0)\n",
        "print(arr3)"
      ],
      "metadata": {
        "colab": {
          "base_uri": "https://localhost:8080/"
        },
        "id": "z5OLMT88yf3N",
        "outputId": "e52c464b-bdb8-4900-88ef-a7a8ead69e21"
      },
      "execution_count": null,
      "outputs": [
        {
          "output_type": "stream",
          "name": "stdout",
          "text": [
            "[1 2 3 4 5 6 7 8]\n"
          ]
        }
      ]
    },
    {
      "cell_type": "code",
      "source": [
        "arr1=np.array([[1,2],[3,4]])\n",
        "arr2=np.array([[5,6],[7,8]])\n",
        "arr3=np.concatenate((arr1,arr2),axis=0)\n",
        "print(arr3)"
      ],
      "metadata": {
        "colab": {
          "base_uri": "https://localhost:8080/"
        },
        "id": "oLJlo6kfzaUp",
        "outputId": "76707d8e-e64a-4953-d7b0-feb124332529"
      },
      "execution_count": null,
      "outputs": [
        {
          "output_type": "stream",
          "name": "stdout",
          "text": [
            "[[1 2]\n",
            " [3 4]\n",
            " [5 6]\n",
            " [7 8]]\n"
          ]
        }
      ]
    },
    {
      "cell_type": "code",
      "source": [
        "arr1=np.array([[1,2],[3,4]])\n",
        "arr2=np.array([[5,6],[7,8]])\n",
        "arr3=np.concatenate((arr1,arr2),axis=1)\n",
        "print(arr3)"
      ],
      "metadata": {
        "colab": {
          "base_uri": "https://localhost:8080/"
        },
        "id": "MlhJvC4Lzhd7",
        "outputId": "09031cd5-de60-46a8-e614-8c700d5e54ea"
      },
      "execution_count": null,
      "outputs": [
        {
          "output_type": "stream",
          "name": "stdout",
          "text": [
            "[[1 2 5 6]\n",
            " [3 4 7 8]]\n"
          ]
        }
      ]
    },
    {
      "cell_type": "markdown",
      "source": [
        "**Removing** :-- delete()"
      ],
      "metadata": {
        "id": "PACD6JmxzpsV"
      }
    },
    {
      "cell_type": "code",
      "source": [
        "# removing an specific index number value\n",
        "arr=np.array([1,2,3,4,5,6,7,8,9,10])\n",
        "arr2=np.delete(arr,3)\n",
        "print(arr)\n",
        "print(arr2)"
      ],
      "metadata": {
        "colab": {
          "base_uri": "https://localhost:8080/"
        },
        "id": "QrNekEOczksp",
        "outputId": "c60ea4d1-4337-48fe-f543-b4746b78c015"
      },
      "execution_count": null,
      "outputs": [
        {
          "output_type": "stream",
          "name": "stdout",
          "text": [
            "[ 1  2  3  4  5  6  7  8  9 10]\n",
            "[ 1  2  3  5  6  7  8  9 10]\n"
          ]
        }
      ]
    },
    {
      "cell_type": "code",
      "source": [
        "#REMOVING IN 2D ARRAY\n",
        "arr=np.array([[1,2,3],[4,5,6]])\n",
        "arr2=np.delete(arr,0,axis=1)\n",
        "print(arr)\n",
        "print()\n",
        "print(arr2)"
      ],
      "metadata": {
        "colab": {
          "base_uri": "https://localhost:8080/"
        },
        "id": "P9Oqkmz00KAq",
        "outputId": "69232af3-6197-441b-bdaf-3028162bc5fb"
      },
      "execution_count": null,
      "outputs": [
        {
          "output_type": "stream",
          "name": "stdout",
          "text": [
            "[[1 2 3]\n",
            " [4 5 6]]\n",
            "\n",
            "[[2 3]\n",
            " [5 6]]\n"
          ]
        }
      ]
    },
    {
      "cell_type": "code",
      "source": [
        "#REMOVING IN 2D ARRAY\n",
        "arr=np.array([[1,2,3],[4,5,6]])\n",
        "arr2=np.delete(arr,0,axis=0)\n",
        "print(arr)\n",
        "print()\n",
        "print(arr2)"
      ],
      "metadata": {
        "colab": {
          "base_uri": "https://localhost:8080/"
        },
        "id": "xZro1Dwl0eoh",
        "outputId": "0e49504b-fb89-4857-9a92-9baeec7b4f42"
      },
      "execution_count": null,
      "outputs": [
        {
          "output_type": "stream",
          "name": "stdout",
          "text": [
            "[[1 2 3]\n",
            " [4 5 6]]\n",
            "\n",
            "[[4 5 6]]\n"
          ]
        }
      ]
    },
    {
      "cell_type": "markdown",
      "source": [
        "**Stacking** combine array vertically OR horizontally"
      ],
      "metadata": {
        "id": "uV_LOjM20uhB"
      }
    },
    {
      "cell_type": "code",
      "source": [
        "# vstack()\n",
        "#hstack()\n",
        "\n",
        "arr=np.array([1,2,3,4])\n",
        "arr2=np.array([11,12,13,14])\n",
        "arr3=np.vstack((arr,arr2))\n",
        "print(arr3)\n",
        "print()\n",
        "arr4=np.hstack((arr,arr2))\n",
        "print(arr4)"
      ],
      "metadata": {
        "colab": {
          "base_uri": "https://localhost:8080/"
        },
        "id": "vV1uyHv50r4p",
        "outputId": "77f372d8-6dee-48e5-d63e-b167f27758de"
      },
      "execution_count": null,
      "outputs": [
        {
          "output_type": "stream",
          "name": "stdout",
          "text": [
            "[[ 1  2  3  4]\n",
            " [11 12 13 14]]\n",
            "\n",
            "[ 1  2  3  4 11 12 13 14]\n"
          ]
        }
      ]
    },
    {
      "cell_type": "markdown",
      "source": [
        "**Splitting** --> Array divide into multiple subArray"
      ],
      "metadata": {
        "id": "HVr6TAk814Xx"
      }
    },
    {
      "cell_type": "code",
      "source": [
        "# np.split()  -->  equal\n",
        "# np.hsplit()   --> Horizontal split\n",
        "# np.vsplit()  --> Vertical split  (Work only with 2 or more dimention)\n",
        "\n",
        "arr=np.array([1,2,3,4,5,6,7,8,9,10])\n",
        "arr2=np.split(arr,2)\n",
        "print(arr2)"
      ],
      "metadata": {
        "colab": {
          "base_uri": "https://localhost:8080/"
        },
        "id": "E_ZFkWdv2PMs",
        "outputId": "b04e9045-b2f4-4aaa-8934-a2f360fde762"
      },
      "execution_count": null,
      "outputs": [
        {
          "output_type": "stream",
          "name": "stdout",
          "text": [
            "[array([1, 2, 3, 4, 5]), array([ 6,  7,  8,  9, 10])]\n"
          ]
        }
      ]
    },
    {
      "cell_type": "code",
      "source": [
        "arr=np.array([1,2,3,4,5,6,7,8,9,10])\n",
        "arr2=np.hsplit(arr,2)\n",
        "print(arr2)"
      ],
      "metadata": {
        "colab": {
          "base_uri": "https://localhost:8080/"
        },
        "id": "wVhmS0jY24_S",
        "outputId": "8c3d1b29-fdb4-4cbb-ba35-11e5949de22e"
      },
      "execution_count": null,
      "outputs": [
        {
          "output_type": "stream",
          "name": "stdout",
          "text": [
            "[array([1, 2, 3, 4, 5]), array([ 6,  7,  8,  9, 10])]\n"
          ]
        }
      ]
    },
    {
      "cell_type": "markdown",
      "source": [
        "## **Brodcasting & Vectorization**"
      ],
      "metadata": {
        "id": "zUHa_K673fNf"
      }
    },
    {
      "cell_type": "markdown",
      "source": [
        "**Brodcasting ** --> describes how NumPy treats arrays with different shapes during arithmetic operations."
      ],
      "metadata": {
        "id": "jVksIAjCRlQW"
      }
    },
    {
      "cell_type": "code",
      "source": [
        "prices=[100,200,300]\n",
        "\n",
        "discount=10\n",
        "\n",
        "final_price=[]\n",
        "for price in prices:\n",
        "  final_priceS=price-(price*discount/100)\n",
        "  final_price.append(final_priceS)\n",
        "print(final_price)\n",
        "\n",
        "#NOT EFFICIENT METHOD"
      ],
      "metadata": {
        "colab": {
          "base_uri": "https://localhost:8080/"
        },
        "id": "G6aAAxMSSL0n",
        "outputId": "753e1132-05d0-4b3c-b067-5575b2ac44ed"
      },
      "execution_count": null,
      "outputs": [
        {
          "output_type": "stream",
          "name": "stdout",
          "text": [
            "[90.0, 180.0, 270.0]\n"
          ]
        }
      ]
    },
    {
      "cell_type": "code",
      "source": [
        "# USING BRODCASTING METHOD\n",
        "import numpy as np\n",
        "prices=np.array([100,200,300])\n",
        "discount = 10\n",
        "final_price=prices-(prices*discount/100)\n",
        "print(final_price)"
      ],
      "metadata": {
        "colab": {
          "base_uri": "https://localhost:8080/"
        },
        "id": "LlkiQd7kTLxG",
        "outputId": "c124f78f-2a21-4371-e2d8-f1e19bbdf2b4"
      },
      "execution_count": null,
      "outputs": [
        {
          "output_type": "stream",
          "name": "stdout",
          "text": [
            "[ 90. 180. 270.]\n"
          ]
        }
      ]
    },
    {
      "cell_type": "code",
      "source": [
        "arr=np.array([100,200,300])\n",
        "res=arr*2\n",
        "print(res)"
      ],
      "metadata": {
        "colab": {
          "base_uri": "https://localhost:8080/"
        },
        "id": "zOAfLjv5UUVV",
        "outputId": "e7458ea2-5b69-4f4c-adb4-eae9abf944c1"
      },
      "execution_count": null,
      "outputs": [
        {
          "output_type": "stream",
          "name": "stdout",
          "text": [
            "[200 400 600]\n"
          ]
        }
      ]
    },
    {
      "cell_type": "code",
      "source": [
        "matrix=np.array([[1,2,3],[4,5,6]])\n",
        "vector =np.array([10,20,30])\n",
        "res=matrix+vector\n",
        "print(res)"
      ],
      "metadata": {
        "colab": {
          "base_uri": "https://localhost:8080/"
        },
        "id": "5t4Iw3PaVxCw",
        "outputId": "c4394e31-d031-4855-d4e1-6df0772231f7"
      },
      "execution_count": null,
      "outputs": [
        {
          "output_type": "stream",
          "name": "stdout",
          "text": [
            "[[11 22 33]\n",
            " [14 25 36]]\n"
          ]
        }
      ]
    },
    {
      "cell_type": "markdown",
      "source": [
        "**Vectorization** --> apply Operation on each element of array without using LOOP"
      ],
      "metadata": {
        "id": "c-75jcHAXAgW"
      }
    },
    {
      "cell_type": "code",
      "source": [
        "ist1=[1,2,3]\n",
        "ist2=[4,5,6]\n",
        "\n",
        "res=[x+y for x,y in zip(ist1,ist2)]\n",
        "print(res)\n",
        "\n",
        "#that's slow process"
      ],
      "metadata": {
        "colab": {
          "base_uri": "https://localhost:8080/"
        },
        "id": "XyqUvhJDWO4n",
        "outputId": "bfd56dea-be41-4241-bdda-e68e20c77a52"
      },
      "execution_count": null,
      "outputs": [
        {
          "output_type": "stream",
          "name": "stdout",
          "text": [
            "[5, 7, 9]\n"
          ]
        }
      ]
    },
    {
      "cell_type": "code",
      "source": [
        "list1=np.array([1,2,3])\n",
        "list2=np.array([44,55,66])\n",
        "res=list1+list2\n",
        "print(res)"
      ],
      "metadata": {
        "colab": {
          "base_uri": "https://localhost:8080/"
        },
        "id": "2HOpdmNbX1sL",
        "outputId": "f5da6a17-7f55-4efe-b74c-517c32a8d1d9"
      },
      "execution_count": null,
      "outputs": [
        {
          "output_type": "stream",
          "name": "stdout",
          "text": [
            "[45 57 69]\n"
          ]
        }
      ]
    },
    {
      "cell_type": "code",
      "source": [
        "list1=np.array([1,2,3])\n",
        "res=list1*4\n",
        "print(res)"
      ],
      "metadata": {
        "colab": {
          "base_uri": "https://localhost:8080/"
        },
        "id": "wSEmhEjOYaGW",
        "outputId": "f1c88f36-794c-4c33-97c2-6298201f2dd0"
      },
      "execution_count": null,
      "outputs": [
        {
          "output_type": "stream",
          "name": "stdout",
          "text": [
            "[ 4  8 12]\n"
          ]
        }
      ]
    },
    {
      "cell_type": "markdown",
      "source": [
        "## **Handling Missing & Special Values**"
      ],
      "metadata": {
        "id": "M8KrcenRZOtF"
      }
    },
    {
      "cell_type": "markdown",
      "source": [
        "**Missing value** --> Three Builtin Function are there\n",
        "\n",
        "\n",
        "\n",
        "*   **np.isnan()**  -> detect missing value\n",
        "*   **np.nan_to_num()** --> missing value replace by an other number\n",
        "\n",
        "\n",
        "*   **np.isinf()** -->detect infinity number\n",
        "\n",
        "\n",
        "\n",
        "\n",
        "\n"
      ],
      "metadata": {
        "id": "-ZBmIrMsZxFo"
      }
    },
    {
      "cell_type": "code",
      "source": [
        "#isnan()\n",
        "\n",
        "arr=np.array([1,2,np.nan,4,np.nan,6])\n",
        "print(arr)\n",
        "print(np.isnan(arr))"
      ],
      "metadata": {
        "colab": {
          "base_uri": "https://localhost:8080/"
        },
        "id": "pmVvZXDeZNXJ",
        "outputId": "9576c867-eec3-4931-dc03-9df464ee04f1"
      },
      "execution_count": null,
      "outputs": [
        {
          "output_type": "stream",
          "name": "stdout",
          "text": [
            "[ 1.  2. nan  4. nan  6.]\n",
            "[False False  True False  True False]\n"
          ]
        }
      ]
    },
    {
      "cell_type": "code",
      "source": [
        "#nan_to_num()\n",
        "\n",
        "arr=np.array([1,2,np.nan,4,np.nan,6])\n",
        "print(arr)\n",
        "print(np.isnan(arr))\n",
        "print(np.nan_to_num(arr))    #nan default value = 0\n",
        "print(np.nan_to_num(arr,nan=10))   #nan value = 10\n",
        "\n"
      ],
      "metadata": {
        "colab": {
          "base_uri": "https://localhost:8080/"
        },
        "id": "fc88vKYCbh3i",
        "outputId": "e8678818-b25a-4095-81e6-3f6ad3a6363e"
      },
      "execution_count": null,
      "outputs": [
        {
          "output_type": "stream",
          "name": "stdout",
          "text": [
            "[ 1.  2. nan  4. nan  6.]\n",
            "[False False  True False  True False]\n",
            "[1. 2. 0. 4. 0. 6.]\n",
            "[ 1.  2. 10.  4. 10.  6.]\n"
          ]
        }
      ]
    },
    {
      "cell_type": "code",
      "source": [
        "#isinf()\n",
        "#10^1000  OR 1/0\n",
        "\n",
        "arr=np.array([1,2,np.inf,4,-np.inf,6])\n",
        "print(arr)\n",
        "print(np.isinf(arr))"
      ],
      "metadata": {
        "colab": {
          "base_uri": "https://localhost:8080/"
        },
        "id": "28wLBEoYb9av",
        "outputId": "55598239-e07b-4341-e407-e84bca73357d"
      },
      "execution_count": null,
      "outputs": [
        {
          "output_type": "stream",
          "name": "stdout",
          "text": [
            "[  1.   2.  inf   4. -inf   6.]\n",
            "[False False  True False  True False]\n"
          ]
        }
      ]
    },
    {
      "cell_type": "code",
      "source": [
        "#replace infinity number to finite numbe\n",
        "\n",
        "arr=np.array([1,2,np.inf,4,-np.inf,6])\n",
        "print(arr)\n",
        "print(np.isinf(arr))\n",
        "\n",
        "clean_arr=np.nan_to_num(arr,posinf=1000,neginf=-1000)  #replace -infinity (-1000) and +infinity(100)\n",
        "print(clean_arr)"
      ],
      "metadata": {
        "colab": {
          "base_uri": "https://localhost:8080/"
        },
        "id": "jJ5_Abgmdaei",
        "outputId": "d0927a1f-c7f3-48f4-98ab-1c18883bf727"
      },
      "execution_count": null,
      "outputs": [
        {
          "output_type": "stream",
          "name": "stdout",
          "text": [
            "[  1.   2.  inf   4. -inf   6.]\n",
            "[False False  True False  True False]\n",
            "[    1.     2.  1000.     4. -1000.     6.]\n"
          ]
        }
      ]
    }
  ]
}